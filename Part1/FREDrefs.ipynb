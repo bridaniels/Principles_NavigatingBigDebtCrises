{
 "cells": [
  {
   "cell_type": "markdown",
   "id": "54f80880-7fd4-458a-b4f2-a39a21ea0bfc",
   "metadata": {},
   "source": [
    "# FRED References\n",
    "---"
   ]
  },
  {
   "cell_type": "code",
   "execution_count": 11,
   "id": "173f5a6b-3932-4449-8368-55657c873d93",
   "metadata": {},
   "outputs": [],
   "source": [
    "import pandas as pd"
   ]
  },
  {
   "cell_type": "code",
   "execution_count": 12,
   "id": "c146e93d-764e-449f-b0d6-3c5ff3e1597b",
   "metadata": {},
   "outputs": [
    {
     "name": "stdout",
     "output_type": "stream",
     "text": [
      "                                                       URLS\n",
      "Series_ID                                                  \n",
      "ASCMA              https://fred.stlouisfed.org/series/ASCMA\n",
      "ASFMA              https://fred.stlouisfed.org/series/ASFMA\n",
      "ASHMA              https://fred.stlouisfed.org/series/ASHMA\n",
      "ASMRMA            https://fred.stlouisfed.org/series/ASMRMA\n",
      "ASTDSL            https://fred.stlouisfed.org/series/ASTDSL\n",
      "ASTLL              https://fred.stlouisfed.org/series/ASTLL\n",
      "FBDSILQ027S  https://fred.stlouisfed.org/series/FBDSILQ027S\n",
      "FBLL                https://fred.stlouisfed.org/series/FBLL\n",
      "FGDSLAQ027S  https://fred.stlouisfed.org/series/FGDSLAQ027S\n",
      "GDP                  https://fred.stlouisfed.org/series/GDP\n",
      "GFDEBTN          https://fred.stlouisfed.org/series/GFDEBTN\n",
      "MVLOAS            https://fred.stlouisfed.org/series/MVLOAS\n",
      "NCBDBIQ027S  https://fred.stlouisfed.org/series/NCBDBIQ027S\n",
      "NCBLL              https://fred.stlouisfed.org/series/NCBLL\n",
      "NNBLL              https://fred.stlouisfed.org/series/NNBLL\n",
      "SLGSDODNS      https://fred.stlouisfed.org/series/SLGSDODNS\n",
      "SLOAS              https://fred.stlouisfed.org/series/SLOAS\n",
      "GFDEBTN          https://fred.stlouisfed.org/series/GFDEBTN\n",
      "REVOLSL          https://fred.stlouisfed.org/series/REVOLSL\n",
      "TOTALSL          https://fred.stlouisfed.org/series/TOTALSL\n"
     ]
    }
   ],
   "source": [
    "urls = ['https://fred.stlouisfed.org/series/ASCMA', \n",
    "        'https://fred.stlouisfed.org/series/ASFMA', \n",
    "        'https://fred.stlouisfed.org/series/ASHMA', \n",
    "        'https://fred.stlouisfed.org/series/ASMRMA',\n",
    "        'https://fred.stlouisfed.org/series/ASTDSL',\n",
    "        'https://fred.stlouisfed.org/series/ASTLL',\n",
    "        'https://fred.stlouisfed.org/series/FBDSILQ027S',\n",
    "        'https://fred.stlouisfed.org/series/FBLL',\n",
    "        'https://fred.stlouisfed.org/series/FGDSLAQ027S',\n",
    "        'https://fred.stlouisfed.org/series/GDP',\n",
    "        'https://fred.stlouisfed.org/series/GFDEBTN',\n",
    "        'https://fred.stlouisfed.org/series/MVLOAS',\n",
    "        'https://fred.stlouisfed.org/series/NCBDBIQ027S',\n",
    "        'https://fred.stlouisfed.org/series/NCBLL',\n",
    "        'https://fred.stlouisfed.org/series/NNBLL',\n",
    "        'https://fred.stlouisfed.org/series/SLGSDODNS',\n",
    "        'https://fred.stlouisfed.org/series/SLOAS',\n",
    "        'https://fred.stlouisfed.org/series/GFDEBTN',\n",
    "        'https://fred.stlouisfed.org/series/REVOLSL',\n",
    "        'https://fred.stlouisfed.org/series/TOTALSL'\n",
    "       ]\n",
    "\n",
    "\n",
    "series_id = []\n",
    "for link in urls: \n",
    "    s_id = link.split('series/')[1]\n",
    "    series_id.append(s_id)    \n",
    "#print(series_id)\n",
    " \n",
    "    \n",
    "headers = {\n",
    "    'Series_ID': series_id,\n",
    "    'URLS': urls\n",
    "}\n",
    "headersDF = pd.DataFrame(headers)\n",
    "headersDF.set_index('Series_ID', inplace=True)\n",
    "\n",
    "print(headersDF)"
   ]
  },
  {
   "cell_type": "code",
   "execution_count": 13,
   "id": "4ec8f391-adbe-4b0b-bd65-abd8216dc111",
   "metadata": {},
   "outputs": [],
   "source": [
    "headersDF.to_csv('data/references/FREDdata_refs.csv')"
   ]
  },
  {
   "cell_type": "code",
   "execution_count": null,
   "id": "c7603c2a-ca63-4e48-a95c-65964367d7d6",
   "metadata": {},
   "outputs": [],
   "source": []
  },
  {
   "cell_type": "code",
   "execution_count": null,
   "id": "fe08ef0c-9989-4237-a8de-db1548aff2ed",
   "metadata": {},
   "outputs": [],
   "source": []
  },
  {
   "cell_type": "code",
   "execution_count": null,
   "id": "366c6038-ebd8-4625-a494-8168caa9a0ca",
   "metadata": {},
   "outputs": [],
   "source": []
  }
 ],
 "metadata": {
  "kernelspec": {
   "display_name": "Python 3",
   "language": "python",
   "name": "python3"
  },
  "language_info": {
   "codemirror_mode": {
    "name": "ipython",
    "version": 3
   },
   "file_extension": ".py",
   "mimetype": "text/x-python",
   "name": "python",
   "nbconvert_exporter": "python",
   "pygments_lexer": "ipython3",
   "version": "3.8.8"
  }
 },
 "nbformat": 4,
 "nbformat_minor": 5
}
