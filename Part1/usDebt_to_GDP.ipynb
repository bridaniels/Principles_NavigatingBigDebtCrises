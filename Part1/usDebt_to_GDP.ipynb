{
 "cells": [
  {
   "cell_type": "markdown",
   "id": "24f0ee4e-1c91-45ee-be54-84a8f9616638",
   "metadata": {},
   "source": [
    "# **US DEBT TO GDP**\n",
    "---\n",
    "- Tracking Total Debt of Economy as a Percentage of the Total Income of the Economy (GDP)\n",
    "- Tracking Total Amount of Debt Service Payments Relative to GDP\n",
    "- Over 12yr Period\n"
   ]
  },
  {
   "cell_type": "markdown",
   "id": "74c23768-e7dc-4fee-bde2-0496ab3cb944",
   "metadata": {},
   "source": [
    "### Import Libraries "
   ]
  },
  {
   "cell_type": "code",
   "execution_count": 1,
   "id": "04692bac-78de-41dc-b94d-d6c876e5f363",
   "metadata": {},
   "outputs": [],
   "source": [
    "import os\n",
    "import csv\n",
    "\n",
    "import pandas as pd \n",
    "import numpy as np \n",
    "import datetime as dt \n",
    "\n",
    "import matplotlib.pyplot as plt"
   ]
  },
  {
   "cell_type": "markdown",
   "id": "470720f8-6053-4855-8a8d-ac2aa96786c2",
   "metadata": {},
   "source": [
    "### Import US GDP and Debt from [Federal Reserve Economic Data Repository (FRED)](https://fred.stlouisfed.org/)"
   ]
  },
  {
   "cell_type": "code",
   "execution_count": 2,
   "id": "a95f2db3-4fdf-4a5c-ae80-24ddefb0aa58",
   "metadata": {},
   "outputs": [
    {
     "name": "stdout",
     "output_type": "stream",
     "text": [
      "List of Measurements:  ASTLL ASTDSL ASCMA ASFMA NCBDBIQ027S GFDEBTN MTSO133FMS NCBLL REVOLSL ASMRMA SLGSDODNS ASHMA MVLOAS SLOAS NNBLL GDP TOTALSL FBDSILQ027S \n",
      "\n",
      "    Unnamed: 0    Series_ID                                            URLS\n",
      "0            0        ASCMA        https://fred.stlouisfed.org/series/ASCMA\n",
      "1            1        ASFMA        https://fred.stlouisfed.org/series/ASFMA\n",
      "2            2        ASHMA        https://fred.stlouisfed.org/series/ASHMA\n",
      "3            3       ASMRMA       https://fred.stlouisfed.org/series/ASMRMA\n",
      "4            4       ASTDSL       https://fred.stlouisfed.org/series/ASTDSL\n",
      "5            5        ASTLL        https://fred.stlouisfed.org/series/ASTLL\n",
      "6            6  FBDSILQ027S  https://fred.stlouisfed.org/series/FBDSILQ027S\n",
      "7            7          GDP          https://fred.stlouisfed.org/series/GDP\n",
      "8            8      GFDEBTN      https://fred.stlouisfed.org/series/GFDEBTN\n",
      "9            9       MVLOAS       https://fred.stlouisfed.org/series/MVLOAS\n",
      "10          10  NCBDBIQ027S  https://fred.stlouisfed.org/series/NCBDBIQ027S\n",
      "11          11        NCBLL        https://fred.stlouisfed.org/series/NCBLL\n",
      "12          12        NNBLL        https://fred.stlouisfed.org/series/NNBLL\n",
      "13          13    SLGSDODNS    https://fred.stlouisfed.org/series/SLGSDODNS\n",
      "14          14        SLOAS        https://fred.stlouisfed.org/series/SLOAS\n",
      "15          15      GFDEBTN      https://fred.stlouisfed.org/series/GFDEBTN\n",
      "16          16      REVOLSL      https://fred.stlouisfed.org/series/REVOLSL\n",
      "17          17      TOTALSL      https://fred.stlouisfed.org/series/TOTALSL\n"
     ]
    }
   ],
   "source": [
    "files = os.listdir('data/FRED')\n",
    "measurements = {}\n",
    "for file in files: \n",
    "    if file.split('.')[1] == 'csv':\n",
    "        name = file.split('.')[0]\n",
    "        measurements[name] = pd.read_csv('data/FRED/'+file, index_col='DATE')\n",
    "        measurements[name].index = pd.to_datetime(measurements[name].index)\n",
    "print('List of Measurements: ', end=' ')\n",
    "for i in measurements.keys(): \n",
    "    print(i.upper(), end=' ')\n",
    "print('\\n')\n",
    "print(pd.read_csv('data/references/FREDdata_refs.csv'))"
   ]
  },
  {
   "cell_type": "code",
   "execution_count": 3,
   "id": "e69e84ba-b73d-4e85-87c8-b8e0d8465a55",
   "metadata": {},
   "outputs": [],
   "source": [
    "def _1960_Present(file_addy): \n",
    "    new_df = file_addy['1960-01-01':'2021-10-01']\n",
    "    new_df = new_df.astype(float, errors='raise')\n",
    "    #new_df.info()\n",
    "    return new_df"
   ]
  },
  {
   "cell_type": "markdown",
   "id": "d4895649-8489-4444-8830-264a5199868d",
   "metadata": {},
   "source": [
    "### Find Total Debt "
   ]
  },
  {
   "cell_type": "code",
   "execution_count": 4,
   "id": "4142943d-c94c-4e69-a09d-34869626c321",
   "metadata": {},
   "outputs": [],
   "source": [
    "# All Sectors; Total Loans; Liability, Level \n",
    "ASTLL = _1960_Present(measurements['ASTLL'])\n",
    "# All Sectors; Total Debt Securities; Liability, Level\n",
    "ASTDSL = _1960_Present(measurements['ASTDSL'])\n",
    "# Gross Domestic Product \n",
    "GDP = _1960_Present(measurements['GDP'])"
   ]
  },
  {
   "cell_type": "code",
   "execution_count": 5,
   "id": "ee1e92fa-f28d-46c2-88bf-cf0b5d3af81e",
   "metadata": {},
   "outputs": [
    {
     "name": "stdout",
     "output_type": "stream",
     "text": [
      "<class 'pandas.core.frame.DataFrame'>\n",
      "DatetimeIndex: 248 entries, 1960-01-01 to 2021-10-01\n",
      "Data columns (total 3 columns):\n",
      " #   Column  Non-Null Count  Dtype  \n",
      "---  ------  --------------  -----  \n",
      " 0   ASTLL   248 non-null    float64\n",
      " 1   ASTDSL  248 non-null    float64\n",
      " 2   GDP     248 non-null    float64\n",
      "dtypes: float64(3)\n",
      "memory usage: 7.8 KB\n"
     ]
    },
    {
     "data": {
      "text/plain": [
       "ASTLL     0\n",
       "ASTDSL    0\n",
       "GDP       0\n",
       "dtype: int64"
      ]
     },
     "execution_count": 5,
     "metadata": {},
     "output_type": "execute_result"
    }
   ],
   "source": [
    "total_debt = pd.concat([ASTLL,ASTDSL,GDP], axis=1, join='outer')\n",
    "total_debt.info()\n",
    "total_debt.isnull().sum()"
   ]
  },
  {
   "cell_type": "code",
   "execution_count": 7,
   "id": "c6b05c6d-8e2b-4ff3-afcd-a0030af23a6e",
   "metadata": {},
   "outputs": [],
   "source": [
    "# GDP measured in BILLIONS \n",
    "# ASTLL + ASTDSL measured in MILLIONS\n",
    "total_debt['GDP'] = total_debt['GDP'] * 1000"
   ]
  },
  {
   "cell_type": "code",
   "execution_count": 8,
   "id": "4cec7d12-967e-4eab-84fe-6e5c8b28fbc2",
   "metadata": {},
   "outputs": [
    {
     "data": {
      "text/html": [
       "<div>\n",
       "<style scoped>\n",
       "    .dataframe tbody tr th:only-of-type {\n",
       "        vertical-align: middle;\n",
       "    }\n",
       "\n",
       "    .dataframe tbody tr th {\n",
       "        vertical-align: top;\n",
       "    }\n",
       "\n",
       "    .dataframe thead th {\n",
       "        text-align: right;\n",
       "    }\n",
       "</style>\n",
       "<table border=\"1\" class=\"dataframe\">\n",
       "  <thead>\n",
       "    <tr style=\"text-align: right;\">\n",
       "      <th></th>\n",
       "      <th>ASTLL</th>\n",
       "      <th>ASTDSL</th>\n",
       "      <th>GDP</th>\n",
       "      <th>Total_Debt</th>\n",
       "      <th>Total_Debt_%GDP</th>\n",
       "    </tr>\n",
       "    <tr>\n",
       "      <th>DATE</th>\n",
       "      <th></th>\n",
       "      <th></th>\n",
       "      <th></th>\n",
       "      <th></th>\n",
       "      <th></th>\n",
       "    </tr>\n",
       "  </thead>\n",
       "  <tbody>\n",
       "    <tr>\n",
       "      <th>2020-10-01</th>\n",
       "      <td>29921572.0</td>\n",
       "      <td>53108991.0</td>\n",
       "      <td>21477597.0</td>\n",
       "      <td>83030563.0</td>\n",
       "      <td>3.865915</td>\n",
       "    </tr>\n",
       "    <tr>\n",
       "      <th>2021-01-01</th>\n",
       "      <td>30317768.0</td>\n",
       "      <td>53804076.0</td>\n",
       "      <td>22038226.0</td>\n",
       "      <td>84121844.0</td>\n",
       "      <td>3.817088</td>\n",
       "    </tr>\n",
       "    <tr>\n",
       "      <th>2021-04-01</th>\n",
       "      <td>30756356.0</td>\n",
       "      <td>54574168.0</td>\n",
       "      <td>22740959.0</td>\n",
       "      <td>85330524.0</td>\n",
       "      <td>3.752283</td>\n",
       "    </tr>\n",
       "    <tr>\n",
       "      <th>2021-07-01</th>\n",
       "      <td>31414420.0</td>\n",
       "      <td>54912165.0</td>\n",
       "      <td>23202344.0</td>\n",
       "      <td>86326585.0</td>\n",
       "      <td>3.720598</td>\n",
       "    </tr>\n",
       "    <tr>\n",
       "      <th>2021-10-01</th>\n",
       "      <td>32120663.0</td>\n",
       "      <td>56187773.0</td>\n",
       "      <td>24002815.0</td>\n",
       "      <td>88308436.0</td>\n",
       "      <td>3.679087</td>\n",
       "    </tr>\n",
       "  </tbody>\n",
       "</table>\n",
       "</div>"
      ],
      "text/plain": [
       "                 ASTLL      ASTDSL         GDP  Total_Debt  Total_Debt_%GDP\n",
       "DATE                                                                       \n",
       "2020-10-01  29921572.0  53108991.0  21477597.0  83030563.0         3.865915\n",
       "2021-01-01  30317768.0  53804076.0  22038226.0  84121844.0         3.817088\n",
       "2021-04-01  30756356.0  54574168.0  22740959.0  85330524.0         3.752283\n",
       "2021-07-01  31414420.0  54912165.0  23202344.0  86326585.0         3.720598\n",
       "2021-10-01  32120663.0  56187773.0  24002815.0  88308436.0         3.679087"
      ]
     },
     "execution_count": 8,
     "metadata": {},
     "output_type": "execute_result"
    }
   ],
   "source": [
    "total_debt['Total_Debt'] = total_debt['ASTLL'] + total_debt['ASTDSL']\n",
    "total_debt['Total_Debt_%GDP'] = total_debt['Total_Debt']/total_debt['GDP']\n",
    "\n",
    "total_debt.tail()"
   ]
  },
  {
   "cell_type": "code",
   "execution_count": 9,
   "id": "e04bd2b2-4e07-4c82-be61-4bc99f897fc0",
   "metadata": {},
   "outputs": [
    {
     "data": {
      "image/png": "[encoded data removed]",
      "text/plain": [
       "<Figure size 1152x504 with 1 Axes>"
      ]
     },
     "metadata": {
      "needs_background": "light"
     },
     "output_type": "display_data"
    }
   ],
   "source": [
    "plt.figure(figsize=(16,7))\n",
    "\n",
    "plt.plot(total_debt['Total_Debt_%GDP'], label='Total Debt %GDP')\n",
    "\n",
    "plt.title('Total Debt of US as a Percentage of GDP', fontsize=15)\n",
    "plt.ylabel('Percent of Total Debt to GDP', fontsize=12)\n",
    "plt.legend(loc=2)\n",
    "plt.show()"
   ]
  },
  {
   "cell_type": "code",
   "execution_count": null,
   "id": "9d92491a-a509-4db9-a0c3-7d34c034f67e",
   "metadata": {},
   "outputs": [],
   "source": []
  }
 ],
 "metadata": {
  "kernelspec": {
   "display_name": "Python 3",
   "language": "python",
   "name": "python3"
  },
  "language_info": {
   "codemirror_mode": {
    "name": "ipython",
    "version": 3
   },
   "file_extension": ".py",
   "mimetype": "text/x-python",
   "name": "python",
   "nbconvert_exporter": "python",
   "pygments_lexer": "ipython3",
   "version": "3.8.8"
  }
 },
 "nbformat": 4,
 "nbformat_minor": 5
}
