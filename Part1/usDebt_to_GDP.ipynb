{
 "cells": [
  {
   "cell_type": "markdown",
   "id": "24f0ee4e-1c91-45ee-be54-84a8f9616638",
   "metadata": {},
   "source": [
    "# **US DEBT TO GDP**\n",
    "---\n",
    "- Tracking Total Debt of Economy as a Percentage of the Total Income of the Economy (GDP)\n",
    "- Tracking Total Amount of Debt Service Payments Relative to GDP\n",
    "- Over 12yr Period\n"
   ]
  },
  {
   "cell_type": "markdown",
   "id": "74c23768-e7dc-4fee-bde2-0496ab3cb944",
   "metadata": {},
   "source": [
    "### Import Libraries "
   ]
  },
  {
   "cell_type": "code",
   "execution_count": 4,
   "id": "04692bac-78de-41dc-b94d-d6c876e5f363",
   "metadata": {},
   "outputs": [],
   "source": [
    "import os\n",
    "import csv\n",
    "\n",
    "import pandas as pd \n",
    "import numpy as np \n",
    "import datetime as dt \n",
    "\n",
    "import matplotlib.pyplot as plt"
   ]
  },
  {
   "cell_type": "markdown",
   "id": "470720f8-6053-4855-8a8d-ac2aa96786c2",
   "metadata": {},
   "source": [
    "### Import US GDP and Debt from [Federal Reserve Economic Data Repository (FRED)](https://fred.stlouisfed.org/)"
   ]
  },
  {
   "cell_type": "code",
   "execution_count": 5,
   "id": "a95f2db3-4fdf-4a5c-ae80-24ddefb0aa58",
   "metadata": {},
   "outputs": [
    {
     "name": "stdout",
     "output_type": "stream",
     "text": [
      "List of Measurements:  ASTLL ASTDSL ASCMA ASFMA NCBDBIQ027S GFDEBTN MTSO133FMS NCBLL FGDSLAQ027S REVOLSL ASMRMA SLGSDODNS ASHMA MVLOAS SLOAS FBLL NNBLL GDP TOTALSL FBDSILQ027S \n",
      "\n",
      "      Series_ID                                            URLS\n",
      "0         ASCMA        https://fred.stlouisfed.org/series/ASCMA\n",
      "1         ASFMA        https://fred.stlouisfed.org/series/ASFMA\n",
      "2         ASHMA        https://fred.stlouisfed.org/series/ASHMA\n",
      "3        ASMRMA       https://fred.stlouisfed.org/series/ASMRMA\n",
      "4        ASTDSL       https://fred.stlouisfed.org/series/ASTDSL\n",
      "5         ASTLL        https://fred.stlouisfed.org/series/ASTLL\n",
      "6   FBDSILQ027S  https://fred.stlouisfed.org/series/FBDSILQ027S\n",
      "7          FBLL         https://fred.stlouisfed.org/series/FBLL\n",
      "8   FGDSLAQ027S  https://fred.stlouisfed.org/series/FGDSLAQ027S\n",
      "9           GDP          https://fred.stlouisfed.org/series/GDP\n",
      "10      GFDEBTN      https://fred.stlouisfed.org/series/GFDEBTN\n",
      "11       MVLOAS       https://fred.stlouisfed.org/series/MVLOAS\n",
      "12  NCBDBIQ027S  https://fred.stlouisfed.org/series/NCBDBIQ027S\n",
      "13        NCBLL        https://fred.stlouisfed.org/series/NCBLL\n",
      "14        NNBLL        https://fred.stlouisfed.org/series/NNBLL\n",
      "15    SLGSDODNS    https://fred.stlouisfed.org/series/SLGSDODNS\n",
      "16        SLOAS        https://fred.stlouisfed.org/series/SLOAS\n",
      "17      GFDEBTN      https://fred.stlouisfed.org/series/GFDEBTN\n",
      "18      REVOLSL      https://fred.stlouisfed.org/series/REVOLSL\n",
      "19      TOTALSL      https://fred.stlouisfed.org/series/TOTALSL\n"
     ]
    }
   ],
   "source": [
    "files = os.listdir('data/FRED')\n",
    "measurements = {}\n",
    "for file in files: \n",
    "    if file.split('.')[1] == 'csv':\n",
    "        name = file.split('.')[0]\n",
    "        measurements[name] = pd.read_csv('data/FRED/'+file, index_col='DATE')\n",
    "        measurements[name].index = pd.to_datetime(measurements[name].index)\n",
    "print('List of Measurements: ', end=' ')\n",
    "for i in measurements.keys(): \n",
    "    print(i.upper(), end=' ')\n",
    "print('\\n')\n",
    "print(pd.read_csv('data/references/FREDdata_refs.csv'))"
   ]
  },
  {
   "cell_type": "code",
   "execution_count": null,
   "id": "e69e84ba-b73d-4e85-87c8-b8e0d8465a55",
   "metadata": {},
   "outputs": [],
   "source": [
    "def _1960_Present(file_addy): \n",
    "    new_df = file_addy['1960-01-01':'2021-10-01']\n",
    "    new_df = new_df.astype(float, errors='raise')\n",
    "    #new_df.info()\n",
    "    return new_df"
   ]
  },
  {
   "cell_type": "markdown",
   "id": "d4895649-8489-4444-8830-264a5199868d",
   "metadata": {},
   "source": [
    "### Find Total Debt "
   ]
  },
  {
   "cell_type": "code",
   "execution_count": null,
   "id": "4142943d-c94c-4e69-a09d-34869626c321",
   "metadata": {},
   "outputs": [],
   "source": [
    "# All Sectors; Total Loans; Liability, Level \n",
    "ASTLL = _1960_Present(measurements['ASTLL'])\n",
    "# All Sectors; Total Debt Securities; Liability, Level\n",
    "ASTDSL = _1960_Present(measurements['ASTDSL'])\n",
    "# Gross Domestic Product \n",
    "GDP = _1960_Present(measurements['GDP'])"
   ]
  },
  {
   "cell_type": "code",
   "execution_count": null,
   "id": "ee1e92fa-f28d-46c2-88bf-cf0b5d3af81e",
   "metadata": {},
   "outputs": [],
   "source": [
    "total_debt = pd.concat([ASTLL,ASTDSL,GDP], axis=1, join='outer')\n",
    "total_debt.info()\n",
    "total_debt.isnull().sum()"
   ]
  },
  {
   "cell_type": "code",
   "execution_count": null,
   "id": "c6b05c6d-8e2b-4ff3-afcd-a0030af23a6e",
   "metadata": {},
   "outputs": [],
   "source": [
    "# GDP measured in BILLIONS \n",
    "# ASTLL + ASTDSL measured in MILLIONS\n",
    "total_debt['GDP'] = total_debt['GDP'] * 1000"
   ]
  },
  {
   "cell_type": "code",
   "execution_count": null,
   "id": "4cec7d12-967e-4eab-84fe-6e5c8b28fbc2",
   "metadata": {},
   "outputs": [],
   "source": [
    "total_debt['Total_Debt'] = total_debt['ASTLL'] + total_debt['ASTDSL']\n",
    "total_debt['Total_Debt_%GDP'] = total_debt['Total_Debt']/total_debt['GDP']\n",
    "\n",
    "total_debt.tail()"
   ]
  },
  {
   "cell_type": "code",
   "execution_count": null,
   "id": "e04bd2b2-4e07-4c82-be61-4bc99f897fc0",
   "metadata": {},
   "outputs": [],
   "source": [
    "plt.figure(figsize=(16,7))\n",
    "\n",
    "plt.plot(total_debt['Total_Debt_%GDP'], label='Total Debt %GDP')\n",
    "\n",
    "plt.title('Total Debt of US as a Percentage of GDP', fontsize=15)\n",
    "plt.ylabel('Percent of Total Debt to GDP', fontsize=12)\n",
    "plt.legend(loc=2)\n",
    "plt.show()"
   ]
  },
  {
   "cell_type": "markdown",
   "id": "2c9a39b6-37ea-4997-b6d6-02d2d6ab9a32",
   "metadata": {},
   "source": [
    "## By Category "
   ]
  },
  {
   "cell_type": "code",
   "execution_count": 11,
   "id": "752194c6-dc5e-41c2-961c-ca7024896416",
   "metadata": {},
   "outputs": [],
   "source": [
    "import debtToGDP as dtg # made into class now-> calling functions gunna be whacky \n",
    "\n",
    "# desired date range \n",
    "start = '1960-01-01'\n",
    "end = '2021-10-01'"
   ]
  },
  {
   "cell_type": "code",
   "execution_count": 12,
   "id": "e4708289-c09e-4250-929c-380e51454835",
   "metadata": {},
   "outputs": [
    {
     "ename": "TypeError",
     "evalue": "date_range() takes 2 positional arguments but 4 were given",
     "output_type": "error",
     "traceback": [
      "\u001b[0;31m---------------------------------------------------------------------------\u001b[0m",
      "\u001b[0;31mTypeError\u001b[0m                                 Traceback (most recent call last)",
      "\u001b[0;32m<ipython-input-12-58c10714dd86>\u001b[0m in \u001b[0;36m<module>\u001b[0;34m\u001b[0m\n\u001b[1;32m      1\u001b[0m \u001b[0mdebtion\u001b[0m \u001b[0;34m=\u001b[0m \u001b[0mdtg\u001b[0m\u001b[0;34m.\u001b[0m\u001b[0mDEBT\u001b[0m\u001b[0;34m(\u001b[0m\u001b[0mmeasurements\u001b[0m\u001b[0;34m,\u001b[0m\u001b[0mstart\u001b[0m\u001b[0;34m,\u001b[0m\u001b[0mend\u001b[0m\u001b[0;34m)\u001b[0m\u001b[0;34m\u001b[0m\u001b[0;34m\u001b[0m\u001b[0m\n\u001b[1;32m      2\u001b[0m \u001b[0;34m\u001b[0m\u001b[0m\n\u001b[0;32m----> 3\u001b[0;31m \u001b[0mdebtion\u001b[0m\u001b[0;34m.\u001b[0m\u001b[0mtotal_household_nonprofit_debt\u001b[0m\u001b[0;34m(\u001b[0m\u001b[0;34m)\u001b[0m\u001b[0;34m\u001b[0m\u001b[0;34m\u001b[0m\u001b[0m\n\u001b[0m",
      "\u001b[0;32m~/Documents/PROJECTS/finance/Principles_NavigatingBigDebtCrises/Part1/debtToGDP.py\u001b[0m in \u001b[0;36mtotal_household_nonprofit_debt\u001b[0;34m(self)\u001b[0m\n\u001b[1;32m     48\u001b[0m \u001b[0;34m\u001b[0m\u001b[0m\n\u001b[1;32m     49\u001b[0m     \u001b[0;32mdef\u001b[0m \u001b[0mtotal_household_nonprofit_debt\u001b[0m\u001b[0;34m(\u001b[0m\u001b[0mself\u001b[0m\u001b[0;34m)\u001b[0m\u001b[0;34m:\u001b[0m\u001b[0;34m\u001b[0m\u001b[0;34m\u001b[0m\u001b[0m\n\u001b[0;32m---> 50\u001b[0;31m         \u001b[0monefour_mort\u001b[0m \u001b[0;34m=\u001b[0m \u001b[0mself\u001b[0m\u001b[0;34m.\u001b[0m\u001b[0mdate_range\u001b[0m\u001b[0;34m(\u001b[0m\u001b[0;34m'ASHMA'\u001b[0m\u001b[0;34m)\u001b[0m \u001b[0;31m#millions Quarterly\u001b[0m\u001b[0;34m\u001b[0m\u001b[0;34m\u001b[0m\u001b[0m\n\u001b[0m\u001b[1;32m     51\u001b[0m         \u001b[0mmulti_mort\u001b[0m \u001b[0;34m=\u001b[0m \u001b[0mself\u001b[0m\u001b[0;34m.\u001b[0m\u001b[0mdate_range\u001b[0m\u001b[0;34m(\u001b[0m\u001b[0;34m'ASMRMA'\u001b[0m\u001b[0;34m)\u001b[0m \u001b[0;31m#millions Quarterly\u001b[0m\u001b[0;34m\u001b[0m\u001b[0;34m\u001b[0m\u001b[0m\n\u001b[1;32m     52\u001b[0m         \u001b[0mauto_loan\u001b[0m \u001b[0;34m=\u001b[0m \u001b[0mself\u001b[0m\u001b[0;34m.\u001b[0m\u001b[0mdate_range\u001b[0m\u001b[0;34m(\u001b[0m\u001b[0;34m'MVLOAS'\u001b[0m\u001b[0;34m)\u001b[0m\u001b[0;34m*\u001b[0m\u001b[0;36m1000\u001b[0m \u001b[0;31m#billions Quarterly\u001b[0m\u001b[0;34m\u001b[0m\u001b[0;34m\u001b[0m\u001b[0m\n",
      "\u001b[0;31mTypeError\u001b[0m: date_range() takes 2 positional arguments but 4 were given"
     ]
    }
   ],
   "source": [
    "debtion = dtg.DEBT(measurements,start,end)\n",
    "\n",
    "debtion.total_household_nonprofit_debt()"
   ]
  },
  {
   "cell_type": "code",
   "execution_count": null,
   "id": "7ad5e561-f07a-44dd-b0bc-a3e33c84343c",
   "metadata": {},
   "outputs": [],
   "source": [
    "# Business\n",
    "\n",
    "def total_business_debt(start,end): \n",
    "    tot_commercial_mort = dtg.date_range(dtg.measurements['ASCMA'],start,end)\n",
    "    tot_farm_mort = dtg.date_range(dtg.measurements['ASFMA'],start,end)\n",
    "    tot_fin_biz_debt_secur = dtg.date_range(dtg.measurements['FBDSILQ027S'],start,end)\n",
    "    tot_fin_biz_loans_liab = dtg.date_range(dtg.measurements['FBLL'],start,end)\n",
    "    tot_nf_corp_debt_secur = dtg.date_range(dtg.measurements['NCBDBIQ027S'],start,end)\n",
    "    tot_nf_corp_loans = dtg.date_range(dtg.measurements['NCBLL'],start,end)\n",
    "    tot_nf_ncorp_biz_loans = dtg.date_range(dtg.measurements['NNBLL'],start,end)\n",
    "    \n",
    "    tot_biz_debt = pd.concat([tot_commercial_mort, tot_farm_mort, tot_fin_biz_debt_secur,\n",
    "                             tot_fin_biz_loans_liab, tot_nf_corp_debt_secur, tot_nf_corp_loans,\n",
    "                             tot_nf_ncorp_biz_loans],\n",
    "                             axis=1, join='outer')\n",
    "    return tot_biz_debt\n"
   ]
  },
  {
   "cell_type": "code",
   "execution_count": null,
   "id": "e5b38876-2a44-4b65-a88c-c9054a738ba9",
   "metadata": {},
   "outputs": [],
   "source": [
    "biz_debt = total_business_debt(start,end)\n",
    "#biz_debt.info()\n",
    "#biz_debt.isnull().sum()\n",
    "biz_debt"
   ]
  },
  {
   "cell_type": "code",
   "execution_count": null,
   "id": "81517fe9-341a-414a-8cfd-d95e7a12af9d",
   "metadata": {},
   "outputs": [],
   "source": [
    "# Government: \n",
    "\n",
    "def total_gov_debt(start,end): \n",
    "    fed_securities = dtg.date_range(measurements['FGDSLAQ027S'],start,end) #millions Quarterly\n",
    "    state_local = dtg.date_range(measurements['SLGSDODNS'],start,end)*1000 #billions Quarterly\n",
    "    #fed_non_securities = dtg.date_range(measurements['GFDEBTN-NONSEC'])\n",
    "    \n",
    "    tot_gov_debt = pd.concat([fed_securities, state_local],\n",
    "                            axis=1, join='outer')\n",
    "    \n",
    "    tot_gov_debt = tot_gov_debt.fillna(0)\n",
    "    #tot_gov_debt = tot_gov_debt[tot_gov_debt[] != 0] #no non-quarterly data\n",
    "    tot_gov_debt['debt_sum'] = tot_gov_debt.sum(axis=1)\n",
    "    return tot_gov_debt"
   ]
  },
  {
   "cell_type": "code",
   "execution_count": null,
   "id": "5482e91d-f6d1-4e30-9d2b-d98f754844ce",
   "metadata": {},
   "outputs": [],
   "source": [
    "gov_debt = total_gov_debt(start,end)\n",
    "gov_debt.tail(20)"
   ]
  },
  {
   "cell_type": "code",
   "execution_count": null,
   "id": "f685ab27-766c-49bb-ab92-76e45691014e",
   "metadata": {},
   "outputs": [],
   "source": [
    "# Household + Non-Profit \n",
    "def total_household_nonprofit_debt(start,end): \n",
    "    onefour_mort = dtg.date_range(dtg.measurements['ASHMA'],start,end) #millions Quarterly\n",
    "    multi_mort = dtg.date_range(dtg.measurements['ASMRMA'],start,end) #millions Quarterly\n",
    "    auto_loan = dtg.date_range(dtg.measurements['MVLOAS'],start,end)*1000 #billions Quarterly\n",
    "    stu_loan = dtg.date_range(dtg.measurements['SLOAS'],start,end)*1000 #billions Quarterly\n",
    "    credit_card = dtg.date_range(dtg.measurements['REVOLSL'],start,end)*1000 #billions MONTHLY\n",
    "    \n",
    "    tot_house_debt = pd.concat([onefour_mort, multi_mort, auto_loan, stu_loan, credit_card], \n",
    "                               axis=1, join='outer')\n",
    "    \n",
    "    tot_house_debt = tot_house_debt.fillna(0)\n",
    "    tot_house_debt = tot_house_debt[tot_house_debt['ASHMA'] != 0]\n",
    "    tot_house_debt['debt_sum'] = tot_house_debt.sum(axis=1)\n",
    "\n",
    "    return tot_house_debt\n"
   ]
  },
  {
   "cell_type": "code",
   "execution_count": null,
   "id": "e57ee1c5-a297-4ee0-8a1e-2c98239b0454",
   "metadata": {},
   "outputs": [],
   "source": [
    "house_debt = total_household_nonprofit_debt(start,end)\n",
    "#house_debt.tail(20)"
   ]
  },
  {
   "cell_type": "code",
   "execution_count": null,
   "id": "27d7f901-21aa-4dfc-839d-322eb8dfb3b5",
   "metadata": {},
   "outputs": [],
   "source": [
    "plt.figure(figsize=(16,7))\n",
    "\n",
    "plt.plot(house_debt)\n",
    "\n",
    "plt.title('Household and Non-Profit Debt', fontsize=15)\n",
    "#plt.yticks(np.linspace(0,2000000,10000, dtype=int))\n",
    "plt.ylabel('Debt in Millions', fontsize=12)\n",
    "plt.legend(loc=2)\n",
    "plt.show()"
   ]
  },
  {
   "cell_type": "markdown",
   "id": "8453660c-0309-4e37-a1ff-64d49338ef4b",
   "metadata": {},
   "source": [
    "# Work In Progress\n",
    "---"
   ]
  },
  {
   "cell_type": "code",
   "execution_count": null,
   "id": "7753fbf1-b691-4c4a-b4b5-94de7a7e4cdb",
   "metadata": {},
   "outputs": [],
   "source": [
    "measurements['SLGSDODNS'].tail(20)"
   ]
  },
  {
   "cell_type": "code",
   "execution_count": null,
   "id": "7bfc94af-298f-4611-883d-bcbe3c120c97",
   "metadata": {},
   "outputs": [],
   "source": [
    "files = os.listdir('data/FRED')\n",
    "measurements = {}\n",
    "for file in files: \n",
    "    if file.split('.')[1] == 'csv':\n",
    "        name = file.split('.')[0]\n",
    "        measurements[name] = pd.read_csv('data/FRED/'+file, index_col='DATE')\n",
    "        measurements[name].index = pd.to_datetime(measurements[name].index).to_period('Q').strftime('q%q %Y')\n",
    "        #quarterly = pd.date_range(start,end, freq='QS')"
   ]
  },
  {
   "cell_type": "code",
   "execution_count": null,
   "id": "c461230d-e018-4c4e-94f8-c8aab7b80d80",
   "metadata": {},
   "outputs": [],
   "source": [
    "measurements['REVOLSL'].tail(15)\n",
    "#quarterly"
   ]
  },
  {
   "cell_type": "code",
   "execution_count": null,
   "id": "47c9d610-a955-46af-bf87-10d0f73e868a",
   "metadata": {},
   "outputs": [],
   "source": [
    "files = os.listdir('data/FRED')\n",
    "measurements = {}\n",
    "for file in files: \n",
    "    if file.split('.')[1] == 'csv':\n",
    "        name = file.split('.')[0]\n",
    "        measurements[name] = pd.read_csv('data/FRED/'+file, index_col='DATE')\n",
    "        measurements[name].index = pd.DatetimeIndex(measurements[name].index)\n",
    "        measurements[name].index.quarter\n",
    "\n",
    "print('List of Measurements: ', end=' ')\n",
    "for i in measurements.keys(): \n",
    "    print(i.upper(), end=' ')\n",
    "        \n",
    "measurements['ASHMA'].tail()"
   ]
  },
  {
   "cell_type": "code",
   "execution_count": null,
   "id": "317675d7-07b3-40bb-a15c-5b8feecd77c5",
   "metadata": {},
   "outputs": [],
   "source": []
  }
 ],
 "metadata": {
  "interpreter": {
   "hash": "08a0dfaf3fa74e1b9a1bb705dbe1b2708914f992320bdd77350db063c3b717dd"
  },
  "kernelspec": {
   "display_name": "Python 3.8.8 ('base')",
   "language": "python",
   "name": "python3"
  },
  "language_info": {
   "codemirror_mode": {
    "name": "ipython",
    "version": 3
   },
   "file_extension": ".py",
   "mimetype": "text/x-python",
   "name": "python",
   "nbconvert_exporter": "python",
   "pygments_lexer": "ipython3",
   "version": "3.8.8"
  }
 },
 "nbformat": 4,
 "nbformat_minor": 5
}
