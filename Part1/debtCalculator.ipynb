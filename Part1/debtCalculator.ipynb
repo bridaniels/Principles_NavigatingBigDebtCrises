{
 "cells": [
  {
   "cell_type": "markdown",
   "metadata": {},
   "source": [
    "# Debt to GDP Calculations\n",
    "---"
   ]
  },
  {
   "cell_type": "markdown",
   "metadata": {},
   "source": [
    "### Import Libraries "
   ]
  },
  {
   "cell_type": "code",
   "execution_count": 57,
   "metadata": {},
   "outputs": [],
   "source": [
    "import os\n",
    "import csv\n",
    "\n",
    "import pandas as pd \n",
    "import numpy as np \n",
    "import datetime as dt \n",
    "\n",
    "import matplotlib.pyplot as plt\n",
    "\n",
    "from matplotlib.ticker import FuncFormatter"
   ]
  },
  {
   "cell_type": "markdown",
   "metadata": {},
   "source": [
    "### Import `debtToGDP.py` "
   ]
  },
  {
   "cell_type": "code",
   "execution_count": 58,
   "metadata": {},
   "outputs": [],
   "source": [
    "import debtToGDP as dtg\n",
    "debtion = dtg.DEBT(dtg.measurements)"
   ]
  },
  {
   "cell_type": "markdown",
   "metadata": {},
   "source": [
    "## Debt By Category:\n",
    "---"
   ]
  },
  {
   "cell_type": "code",
   "execution_count": 59,
   "metadata": {},
   "outputs": [
    {
     "ename": "AttributeError",
     "evalue": "'DEBT' object has no attribute 'total_business_debt'",
     "output_type": "error",
     "traceback": [
      "\u001b[0;31m---------------------------------------------------------------------------\u001b[0m",
      "\u001b[0;31mAttributeError\u001b[0m                            Traceback (most recent call last)",
      "\u001b[0;32m<ipython-input-59-601b4697ab2a>\u001b[0m in \u001b[0;36m<module>\u001b[0;34m\u001b[0m\n\u001b[1;32m      6\u001b[0m \u001b[0;34m\u001b[0m\u001b[0m\n\u001b[1;32m      7\u001b[0m \u001b[0;31m# Total US Business Debt\u001b[0m\u001b[0;34m\u001b[0m\u001b[0;34m\u001b[0m\u001b[0;34m\u001b[0m\u001b[0m\n\u001b[0;32m----> 8\u001b[0;31m \u001b[0mbiz_debt\u001b[0m \u001b[0;34m=\u001b[0m \u001b[0mdebtion\u001b[0m\u001b[0;34m.\u001b[0m\u001b[0mtotal_business_debt\u001b[0m\u001b[0;34m(\u001b[0m\u001b[0;34m)\u001b[0m\u001b[0;34m\u001b[0m\u001b[0;34m\u001b[0m\u001b[0m\n\u001b[0m",
      "\u001b[0;31mAttributeError\u001b[0m: 'DEBT' object has no attribute 'total_business_debt'"
     ]
    }
   ],
   "source": [
    "# Total Household and Non-Profit Debt \n",
    "house_debt = debtion.total_household_nonprofit_debt()\n",
    "\n",
    "# Total US Government Debt \n",
    "gov_debt = debtion.total_gov_debt()\n",
    "\n",
    "# Total US Business Debt \n",
    "biz_debt = debtion.total_business_debt()"
   ]
  },
  {
   "cell_type": "markdown",
   "metadata": {},
   "source": [
    "### Plot"
   ]
  },
  {
   "cell_type": "code",
   "execution_count": null,
   "metadata": {},
   "outputs": [],
   "source": [
    "# Set YTicks to Millions\n",
    "def millions(x, pos):\n",
    "    return '%1.1fM' % (x * 1e-6)\n",
    "\n",
    "formatter = FuncFormatter(millions)"
   ]
  },
  {
   "cell_type": "code",
   "execution_count": null,
   "metadata": {},
   "outputs": [],
   "source": [
    "# Plotting \n",
    "fig, ax = plt.subplots(figsize=(16,5))\n",
    "\n",
    "ax.plot(house_debt['debt_sum'], label='Household + Non-Profit')\n",
    "ax.plot(gov_debt['debt_sum'], label='Government Debt')\n",
    "\n",
    "ax.set_title('Debt by Category', fontsize=15)\n",
    "ax.set_ylabel('Debt (in Millions)', fontsize=12)\n",
    "ax.yaxis.set_major_formatter(formatter)\n",
    "ax.legend(loc=2)"
   ]
  },
  {
   "cell_type": "code",
   "execution_count": null,
   "metadata": {},
   "outputs": [],
   "source": []
  },
  {
   "cell_type": "code",
   "execution_count": null,
   "metadata": {},
   "outputs": [],
   "source": []
  }
 ],
 "metadata": {
  "interpreter": {
   "hash": "08a0dfaf3fa74e1b9a1bb705dbe1b2708914f992320bdd77350db063c3b717dd"
  },
  "kernelspec": {
   "display_name": "Python 3.8.8 ('base')",
   "language": "python",
   "name": "python3"
  },
  "language_info": {
   "codemirror_mode": {
    "name": "ipython",
    "version": 3
   },
   "file_extension": ".py",
   "mimetype": "text/x-python",
   "name": "python",
   "nbconvert_exporter": "python",
   "pygments_lexer": "ipython3",
   "version": "3.8.8"
  },
  "orig_nbformat": 4
 },
 "nbformat": 4,
 "nbformat_minor": 2
}
