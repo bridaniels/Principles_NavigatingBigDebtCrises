{
 "cells": [
  {
   "cell_type": "markdown",
   "id": "24f0ee4e-1c91-45ee-be54-84a8f9616638",
   "metadata": {},
   "source": [
    "# **Bubble**\n",
    "---"
   ]
  },
  {
   "cell_type": "markdown",
   "id": "74c23768-e7dc-4fee-bde2-0496ab3cb944",
   "metadata": {},
   "source": [
    "### Import Libraries "
   ]
  },
  {
   "cell_type": "code",
   "execution_count": 3,
   "id": "04692bac-78de-41dc-b94d-d6c876e5f363",
   "metadata": {},
   "outputs": [],
   "source": [
    "import os\n",
    "import csv\n",
    "\n",
    "import pandas as pd \n",
    "import numpy as np \n",
    "import datetime as dt \n",
    "\n",
    "import matplotlib.pyplot as plt"
   ]
  },
  {
   "cell_type": "markdown",
   "id": "963d8095",
   "metadata": {},
   "source": [
    "### Import [bub.py](bub.py)"
   ]
  },
  {
   "cell_type": "code",
   "execution_count": 1,
   "id": "3767ecec",
   "metadata": {},
   "outputs": [],
   "source": [
    "import cycle as c"
   ]
  },
  {
   "cell_type": "code",
   "execution_count": null,
   "id": "54871e3a",
   "metadata": {},
   "outputs": [],
   "source": []
  }
 ],
 "metadata": {
  "interpreter": {
   "hash": "08a0dfaf3fa74e1b9a1bb705dbe1b2708914f992320bdd77350db063c3b717dd"
  },
  "kernelspec": {
   "display_name": "Python 3.8.8 ('base')",
   "language": "python",
   "name": "python3"
  },
  "language_info": {
   "codemirror_mode": {
    "name": "ipython",
    "version": 3
   },
   "file_extension": ".py",
   "mimetype": "text/x-python",
   "name": "python",
   "nbconvert_exporter": "python",
   "pygments_lexer": "ipython3",
   "version": "3.8.8"
  }
 },
 "nbformat": 4,
 "nbformat_minor": 5
}
