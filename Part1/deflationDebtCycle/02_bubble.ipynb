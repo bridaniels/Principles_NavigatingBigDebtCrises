{
 "cells": [
  {
   "cell_type": "markdown",
   "id": "24f0ee4e-1c91-45ee-be54-84a8f9616638",
   "metadata": {},
   "source": [
    "# **Bubble**\n",
    "---"
   ]
  },
  {
   "cell_type": "markdown",
   "id": "74c23768-e7dc-4fee-bde2-0496ab3cb944",
   "metadata": {},
   "source": [
    "### Import Libraries "
   ]
  },
  {
   "cell_type": "code",
   "execution_count": 1,
   "id": "04692bac-78de-41dc-b94d-d6c876e5f363",
   "metadata": {},
   "outputs": [],
   "source": [
    "import os\n",
    "import csv\n",
    "\n",
    "import pandas as pd \n",
    "import numpy as np \n",
    "import datetime as dt \n",
    "\n",
    "import matplotlib.pyplot as plt\n"
   ]
  },
  {
   "cell_type": "markdown",
   "id": "963d8095",
   "metadata": {},
   "source": [
    "### Import [d_cycle.py](d_cycle.py) and `fredapi`"
   ]
  },
  {
   "cell_type": "code",
   "execution_count": 2,
   "id": "3767ecec",
   "metadata": {},
   "outputs": [],
   "source": [
    "import d_cycle as dc\n",
    "from fredapi import Fred\n",
    "\n",
    "api_key = os.environ.get(\"FRED_API_KEY\")\n",
    "fred = Fred(api_key=api_key)"
   ]
  },
  {
   "cell_type": "code",
   "execution_count": 3,
   "id": "9fe1becb",
   "metadata": {},
   "outputs": [
    {
     "data": {
      "text/plain": [
       "id                                                                         GDP\n",
       "realtime_start                                                      2022-05-11\n",
       "realtime_end                                                        2022-05-11\n",
       "title                                                   Gross Domestic Product\n",
       "observation_start                                                   1947-01-01\n",
       "observation_end                                                     2022-01-01\n",
       "frequency                                                            Quarterly\n",
       "frequency_short                                                              Q\n",
       "units                                                      Billions of Dollars\n",
       "units_short                                                          Bil. of $\n",
       "seasonal_adjustment                            Seasonally Adjusted Annual Rate\n",
       "seasonal_adjustment_short                                                 SAAR\n",
       "last_updated                                            2022-04-28 07:53:03-05\n",
       "popularity                                                                  92\n",
       "notes                        BEA Account Code: A191RC  Gross domestic produ...\n",
       "dtype: object"
      ]
     },
     "execution_count": 3,
     "metadata": {},
     "output_type": "execute_result"
    }
   ],
   "source": [
    "# checking\n",
    "data = fred.get_series_info('GDP')\n",
    "data"
   ]
  },
  {
   "cell_type": "code",
   "execution_count": 4,
   "id": "c1fc5861",
   "metadata": {},
   "outputs": [
    {
     "data": {
      "text/html": [
       "<div>\n",
       "<style scoped>\n",
       "    .dataframe tbody tr th:only-of-type {\n",
       "        vertical-align: middle;\n",
       "    }\n",
       "\n",
       "    .dataframe tbody tr th {\n",
       "        vertical-align: top;\n",
       "    }\n",
       "\n",
       "    .dataframe thead th {\n",
       "        text-align: right;\n",
       "    }\n",
       "</style>\n",
       "<table border=\"1\" class=\"dataframe\">\n",
       "  <thead>\n",
       "    <tr style=\"text-align: right;\">\n",
       "      <th></th>\n",
       "      <th>ASTLL</th>\n",
       "      <th>ASTDSL</th>\n",
       "      <th>GDP</th>\n",
       "      <th>debt_sum</th>\n",
       "      <th>pcntGDP</th>\n",
       "    </tr>\n",
       "  </thead>\n",
       "  <tbody>\n",
       "    <tr>\n",
       "      <th>1960-01-01</th>\n",
       "      <td>349880.0</td>\n",
       "      <td>413378.0</td>\n",
       "      <td>542648.0</td>\n",
       "      <td>763258.0</td>\n",
       "      <td>1.406543</td>\n",
       "    </tr>\n",
       "    <tr>\n",
       "      <th>1960-04-01</th>\n",
       "      <td>360974.0</td>\n",
       "      <td>415230.0</td>\n",
       "      <td>541080.0</td>\n",
       "      <td>776204.0</td>\n",
       "      <td>1.434546</td>\n",
       "    </tr>\n",
       "    <tr>\n",
       "      <th>1960-07-01</th>\n",
       "      <td>366810.0</td>\n",
       "      <td>420184.0</td>\n",
       "      <td>545604.0</td>\n",
       "      <td>786994.0</td>\n",
       "      <td>1.442427</td>\n",
       "    </tr>\n",
       "    <tr>\n",
       "      <th>1960-10-01</th>\n",
       "      <td>376713.0</td>\n",
       "      <td>426176.0</td>\n",
       "      <td>540197.0</td>\n",
       "      <td>802889.0</td>\n",
       "      <td>1.486289</td>\n",
       "    </tr>\n",
       "    <tr>\n",
       "      <th>1961-01-01</th>\n",
       "      <td>376828.0</td>\n",
       "      <td>426841.0</td>\n",
       "      <td>545018.0</td>\n",
       "      <td>803669.0</td>\n",
       "      <td>1.474573</td>\n",
       "    </tr>\n",
       "    <tr>\n",
       "      <th>...</th>\n",
       "      <td>...</td>\n",
       "      <td>...</td>\n",
       "      <td>...</td>\n",
       "      <td>...</td>\n",
       "      <td>...</td>\n",
       "    </tr>\n",
       "    <tr>\n",
       "      <th>2020-10-01</th>\n",
       "      <td>29921572.0</td>\n",
       "      <td>53108991.0</td>\n",
       "      <td>21477597.0</td>\n",
       "      <td>83030563.0</td>\n",
       "      <td>3.865915</td>\n",
       "    </tr>\n",
       "    <tr>\n",
       "      <th>2021-01-01</th>\n",
       "      <td>30317768.0</td>\n",
       "      <td>53804076.0</td>\n",
       "      <td>22038226.0</td>\n",
       "      <td>84121844.0</td>\n",
       "      <td>3.817088</td>\n",
       "    </tr>\n",
       "    <tr>\n",
       "      <th>2021-04-01</th>\n",
       "      <td>30756356.0</td>\n",
       "      <td>54574168.0</td>\n",
       "      <td>22740959.0</td>\n",
       "      <td>85330524.0</td>\n",
       "      <td>3.752283</td>\n",
       "    </tr>\n",
       "    <tr>\n",
       "      <th>2021-07-01</th>\n",
       "      <td>31414420.0</td>\n",
       "      <td>54912165.0</td>\n",
       "      <td>23202344.0</td>\n",
       "      <td>86326585.0</td>\n",
       "      <td>3.720598</td>\n",
       "    </tr>\n",
       "    <tr>\n",
       "      <th>2021-10-01</th>\n",
       "      <td>32120663.0</td>\n",
       "      <td>56187773.0</td>\n",
       "      <td>24002815.0</td>\n",
       "      <td>88308436.0</td>\n",
       "      <td>3.679087</td>\n",
       "    </tr>\n",
       "  </tbody>\n",
       "</table>\n",
       "<p>248 rows × 5 columns</p>\n",
       "</div>"
      ],
      "text/plain": [
       "                 ASTLL      ASTDSL         GDP    debt_sum   pcntGDP\n",
       "1960-01-01    349880.0    413378.0    542648.0    763258.0  1.406543\n",
       "1960-04-01    360974.0    415230.0    541080.0    776204.0  1.434546\n",
       "1960-07-01    366810.0    420184.0    545604.0    786994.0  1.442427\n",
       "1960-10-01    376713.0    426176.0    540197.0    802889.0  1.486289\n",
       "1961-01-01    376828.0    426841.0    545018.0    803669.0  1.474573\n",
       "...                ...         ...         ...         ...       ...\n",
       "2020-10-01  29921572.0  53108991.0  21477597.0  83030563.0  3.865915\n",
       "2021-01-01  30317768.0  53804076.0  22038226.0  84121844.0  3.817088\n",
       "2021-04-01  30756356.0  54574168.0  22740959.0  85330524.0  3.752283\n",
       "2021-07-01  31414420.0  54912165.0  23202344.0  86326585.0  3.720598\n",
       "2021-10-01  32120663.0  56187773.0  24002815.0  88308436.0  3.679087\n",
       "\n",
       "[248 rows x 5 columns]"
      ]
     },
     "execution_count": 4,
     "metadata": {},
     "output_type": "execute_result"
    }
   ],
   "source": [
    "bub = dc.BUBBLE()\n",
    "debt_gdp = bub.debt_to_gdp()\n",
    "debt_gdp"
   ]
  },
  {
   "cell_type": "code",
   "execution_count": 5,
   "id": "388a5d87",
   "metadata": {},
   "outputs": [
    {
     "data": {
      "text/plain": [
       "1960-01-01      542.648\n",
       "1960-04-01      541.080\n",
       "1960-07-01      545.604\n",
       "1960-10-01      540.197\n",
       "1961-01-01      545.018\n",
       "                ...    \n",
       "2020-10-01    21477.597\n",
       "2021-01-01    22038.226\n",
       "2021-04-01    22740.959\n",
       "2021-07-01    23202.344\n",
       "2021-10-01    24002.815\n",
       "Length: 248, dtype: float64"
      ]
     },
     "execution_count": 5,
     "metadata": {},
     "output_type": "execute_result"
    }
   ],
   "source": [
    "fred.get_series('GDP',dc.default_start, dc.default_end,kwargs='q')"
   ]
  },
  {
   "cell_type": "code",
   "execution_count": null,
   "id": "6992e97c",
   "metadata": {},
   "outputs": [],
   "source": []
  }
 ],
 "metadata": {
  "interpreter": {
   "hash": "08a0dfaf3fa74e1b9a1bb705dbe1b2708914f992320bdd77350db063c3b717dd"
  },
  "kernelspec": {
   "display_name": "Python 3.8.8 ('base')",
   "language": "python",
   "name": "python3"
  },
  "language_info": {
   "codemirror_mode": {
    "name": "ipython",
    "version": 3
   },
   "file_extension": ".py",
   "mimetype": "text/x-python",
   "name": "python",
   "nbconvert_exporter": "python",
   "pygments_lexer": "ipython3",
   "version": "3.8.8"
  }
 },
 "nbformat": 4,
 "nbformat_minor": 5
}
