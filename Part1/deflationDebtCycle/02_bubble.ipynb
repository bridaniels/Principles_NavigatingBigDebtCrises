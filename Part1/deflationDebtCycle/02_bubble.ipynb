{
 "cells": [
  {
   "cell_type": "markdown",
   "id": "24f0ee4e-1c91-45ee-be54-84a8f9616638",
   "metadata": {},
   "source": [
    "# **Bubble**\n",
    "---"
   ]
  },
  {
   "cell_type": "markdown",
   "id": "74c23768-e7dc-4fee-bde2-0496ab3cb944",
   "metadata": {},
   "source": [
    "### Import Libraries "
   ]
  },
  {
   "cell_type": "code",
   "execution_count": 1,
   "id": "04692bac-78de-41dc-b94d-d6c876e5f363",
   "metadata": {},
   "outputs": [],
   "source": [
    "import os\n",
    "import csv\n",
    "\n",
    "import pandas as pd \n",
    "import numpy as np \n",
    "import datetime as dt \n",
    "\n",
    "import matplotlib.pyplot as plt\n",
    "\n",
    "from fredapi import Fred\n"
   ]
  },
  {
   "cell_type": "markdown",
   "id": "963d8095",
   "metadata": {},
   "source": [
    "### Import [d_cycle.py](d_cycle.py)"
   ]
  },
  {
   "cell_type": "code",
   "execution_count": 2,
   "id": "3767ecec",
   "metadata": {},
   "outputs": [
    {
     "ename": "NameError",
     "evalue": "name 'FRED_API_KEY' is not defined",
     "output_type": "error",
     "traceback": [
      "\u001b[0;31m---------------------------------------------------------------------------\u001b[0m",
      "\u001b[0;31mNameError\u001b[0m                                 Traceback (most recent call last)",
      "\u001b[0;32m<ipython-input-2-191f460b5a35>\u001b[0m in \u001b[0;36m<module>\u001b[0;34m\u001b[0m\n\u001b[1;32m      1\u001b[0m \u001b[0;32mimport\u001b[0m \u001b[0md_cycle\u001b[0m \u001b[0;32mas\u001b[0m \u001b[0mdc\u001b[0m\u001b[0;34m\u001b[0m\u001b[0;34m\u001b[0m\u001b[0m\n\u001b[1;32m      2\u001b[0m \u001b[0;34m\u001b[0m\u001b[0m\n\u001b[0;32m----> 3\u001b[0;31m \u001b[0mfred\u001b[0m \u001b[0;34m=\u001b[0m \u001b[0mFred\u001b[0m\u001b[0;34m(\u001b[0m\u001b[0mapi_key\u001b[0m\u001b[0;34m=\u001b[0m\u001b[0mFRED_API_KEY\u001b[0m\u001b[0;34m)\u001b[0m\u001b[0;34m\u001b[0m\u001b[0;34m\u001b[0m\u001b[0m\n\u001b[0m\u001b[1;32m      4\u001b[0m \u001b[0mdata\u001b[0m \u001b[0;34m=\u001b[0m \u001b[0mfred\u001b[0m\u001b[0;34m.\u001b[0m\u001b[0mget_series\u001b[0m\u001b[0;34m(\u001b[0m\u001b[0;34m'GDP'\u001b[0m\u001b[0;34m)\u001b[0m\u001b[0;34m\u001b[0m\u001b[0;34m\u001b[0m\u001b[0m\n",
      "\u001b[0;31mNameError\u001b[0m: name 'FRED_API_KEY' is not defined"
     ]
    }
   ],
   "source": [
    "import d_cycle as dc\n",
    "\n",
    "fred = Fred(api_key=FRED_API_KEY)\n",
    "data = fred.get_series('GDP')"
   ]
  },
  {
   "cell_type": "code",
   "execution_count": null,
   "id": "9fe1becb",
   "metadata": {},
   "outputs": [],
   "source": []
  }
 ],
 "metadata": {
  "interpreter": {
   "hash": "08a0dfaf3fa74e1b9a1bb705dbe1b2708914f992320bdd77350db063c3b717dd"
  },
  "kernelspec": {
   "display_name": "Python 3.8.8 ('base')",
   "language": "python",
   "name": "python3"
  },
  "language_info": {
   "codemirror_mode": {
    "name": "ipython",
    "version": 3
   },
   "file_extension": ".py",
   "mimetype": "text/x-python",
   "name": "python",
   "nbconvert_exporter": "python",
   "pygments_lexer": "ipython3",
   "version": "3.8.8"
  }
 },
 "nbformat": 4,
 "nbformat_minor": 5
}
