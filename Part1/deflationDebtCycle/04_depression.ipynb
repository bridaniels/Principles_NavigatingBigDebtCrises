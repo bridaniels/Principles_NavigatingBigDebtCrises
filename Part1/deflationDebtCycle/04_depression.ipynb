{
 "cells": [
  {
   "cell_type": "markdown",
   "metadata": {},
   "source": [
    "# **Phase 4: Depression**\n",
    "---\n",
    "##### *recessions*: monetary policy still effective \n",
    "##### **Depressions**: monetary policy no longer effective -> move onto other means \n",
    "- Risk-Free Interest Rate already close to 0%\n",
    "    - *cases with great currency outflows/currency weakness*: floor on interest rates higher because of credit/currency risk considerations \n",
    "- Credit Spreads are Wide (amount that high-risk IR are greater than risk-free IR)\n",
    "- Defaults and Restructurings *start* with High Risk (more levered = more at risk)\n",
    "\n",
    "> ### Policy Maker Levers:\n",
    "> 1. Austerity (printing less - deflationary)\n",
    "> 2. Debt Defaults/Restructurings (deflationary)\n",
    "> 3. Central Bank \"Printing Money\" and Making Purchases/Providing Garuntees (inflationary)\n",
    "> 4. Transfers of Money/Credit from the haves to the have nots \n",
    "\n",
    "### Downward \"Debt Death Spiral\": \n",
    "- Risk-Free IR at Floor -> Risky IR making debts expensive to service \n",
    "    - IR cuts only help lending institutions with liquidity problems \n",
    "- Austerity and Defaults/Restructurings Dominate (deflationary forces)\n",
    "    - Hit Banks Hard (highly levered) \n",
    "    - create market fear -> potential runs on financial institutions that won't be able to meet capital requirements without government help\n",
    "    - *Depressions are NOT Psychological*: \n",
    "- Stimulative/Inflationary Forces of \"Printing Money\" **NOT** Balancing Out\n",
    "    - printing money to cover runs or allow defaults (lender of last resort)\n",
    "- High Ratio of `Financial_Assets : Money` = Liquidity Crisis (who will you sell to?)\n",
    "    - unregulated *shadow banking* products/instruments \n",
    "\n",
    "> ### Solvency Problem: Broke\n",
    "> - according to accounting standards: entitiy does not have enough capital to operate \n",
    "> - resolve via providing *equity capital* or *changing accounting rules through monetary policy* \n",
    ">   - EX.) **Mark-to-Market Accounting**: fair value asset pricing for assets with changing values \n",
    "> \n",
    "> ### Cash-Flow Problems: *RUN*\n",
    "> - entity does not have enough cash to meet obligations -> immediate and severe \n",
    "> - can have adequate capital, but capital tied up in illiquid assets \n",
    "> - *resolve* by fiscal/monetary policy with capital injections or garuntees that will resolve \n",
    "\n",
    "### Deleveraging Dynamic: \n",
    "- Driven by Supply and Demand of/Relationships Between **credit, money, goods, and services**\n",
    "    - Credit is *NOT* Fungible Money -> a Promise to Pay in the Future \n",
    "\n",
    "\n"
   ]
  },
  {
   "cell_type": "code",
   "execution_count": null,
   "metadata": {},
   "outputs": [],
   "source": [
    "# Nominal Short Rate Graph \n",
    "# Equity Price Graph \n",
    "# Household Debt as % of Net Worth Graph \n",
    "# USA 3yr Money Growth (%GDP annual)\n",
    "# US Net Wealth Shares \n",
    "# \n",
    "\n",
    "# END OF DEPRESSION\n",
    "### Nominal Growth rate above the nominal interest rate \n",
    "\n",
    "# write-down of asset value impacts (pg. 30, paragraph 2)"
   ]
  },
  {
   "cell_type": "markdown",
   "metadata": {},
   "source": [
    "#### import [d_cycle.py](d_cycle.py) and `fredapi` "
   ]
  },
  {
   "cell_type": "code",
   "execution_count": 1,
   "metadata": {},
   "outputs": [
    {
     "name": "stdout",
     "output_type": "stream",
     "text": [
      "2008 Bubble Start: 2002-01-01\n",
      "2008 Bubble End: 2009-01-01\n",
      "2008 Top Start: 2005-01-01\n",
      "2008 Top End: 2009-01-01\n"
     ]
    }
   ],
   "source": [
    "import os\n",
    "import d_cycle as dc\n",
    "from fredapi import Fred\n",
    "\n",
    "api_key = os.environ.get(\"FRED_API_KEY\")\n",
    "fred = Fred(api_key=api_key)"
   ]
  },
  {
   "cell_type": "code",
   "execution_count": null,
   "metadata": {},
   "outputs": [],
   "source": []
  }
 ],
 "metadata": {
  "kernelspec": {
   "display_name": "Python 3.8.8 ('base')",
   "language": "python",
   "name": "python3"
  },
  "language_info": {
   "codemirror_mode": {
    "name": "ipython",
    "version": 3
   },
   "file_extension": ".py",
   "mimetype": "text/x-python",
   "name": "python",
   "nbconvert_exporter": "python",
   "pygments_lexer": "ipython3",
   "version": "3.8.8"
  },
  "orig_nbformat": 4,
  "vscode": {
   "interpreter": {
    "hash": "08a0dfaf3fa74e1b9a1bb705dbe1b2708914f992320bdd77350db063c3b717dd"
   }
  }
 },
 "nbformat": 4,
 "nbformat_minor": 2
}
