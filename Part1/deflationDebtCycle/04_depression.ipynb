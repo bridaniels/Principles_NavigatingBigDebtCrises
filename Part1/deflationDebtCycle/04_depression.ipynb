{
 "cells": [
  {
   "cell_type": "markdown",
   "metadata": {},
   "source": [
    "# **Phase 4: Depression**\n",
    "---"
   ]
  },
  {
   "cell_type": "code",
   "execution_count": null,
   "metadata": {},
   "outputs": [],
   "source": [
    "# Nominal Short Rate Graph \n",
    "# Equity Price Graph \n",
    "# Household Debt as % of Net Worth Graph \n",
    "# USA 3yr Money Growth (%GDP annual)\n",
    "# US Net Wealth Shares \n",
    "# \n",
    "\n",
    "# write-down of asset value impacts (pg. 30, paragraph 2)"
   ]
  },
  {
   "cell_type": "markdown",
   "metadata": {},
   "source": [
    "#### import [d_cycle.py](d_cycle.py) and `fredapi` "
   ]
  },
  {
   "cell_type": "code",
   "execution_count": null,
   "metadata": {},
   "outputs": [],
   "source": [
    "import os\n",
    "import d_cycle as dc\n",
    "from fredapi import Fred\n",
    "\n",
    "api_key = os.environ.get(\"FRED_API_KEY\")\n",
    "fred = Fred(api_key=api_key)"
   ]
  }
 ],
 "metadata": {
  "kernelspec": {
   "display_name": "Python 3.8.8 ('base')",
   "language": "python",
   "name": "python3"
  },
  "language_info": {
   "codemirror_mode": {
    "name": "ipython",
    "version": 3
   },
   "file_extension": ".py",
   "mimetype": "text/x-python",
   "name": "python",
   "nbconvert_exporter": "python",
   "pygments_lexer": "ipython3",
   "version": "3.8.8"
  },
  "orig_nbformat": 4,
  "vscode": {
   "interpreter": {
    "hash": "08a0dfaf3fa74e1b9a1bb705dbe1b2708914f992320bdd77350db063c3b717dd"
   }
  }
 },
 "nbformat": 4,
 "nbformat_minor": 2
}
