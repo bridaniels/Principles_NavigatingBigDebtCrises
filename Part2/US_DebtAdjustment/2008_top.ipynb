{
 "cells": [
  {
   "cell_type": "markdown",
   "metadata": {},
   "source": [
    "# The Top: 2007\n",
    "--- \n",
    "\n",
    "## Overall Market and Economy Doing Well\n",
    "- Markets flat in February + March with low volatility and priced to maintain it\n",
    "## Problems with Subprime Mortgages\n",
    "- Investment banks packaging and securitizing assets for sale. (CDOs, synthetic CDOs, CMOs, etc.)\n",
    "    - rating best slice AAA, the next slice AA, ....\n",
    "    - AAA-rated bond yielding slightly higher than other AAA bonds\n",
    "    - Hedge funds taking bottom slice offering leverage and volatility \n",
    "    - Offered credit to risky borrowers \n",
    "- Lowered lending standards led to an uptick in delinquencies \n",
    "    - banks stoped buying loans \n",
    "    - originators stuck with losses \n",
    "> #### \"Early Payment Defaults\"\n",
    "> - Provision within agreement with investment bank buying subprime loan\n",
    "> - If borrower misses one of the first few payments -> lender must buy back the loan \n",
    ">   - Typically very rare for the borrower to miss a payment \n",
    "\n",
    "- New Century: 2nd Largest Subprime Lender in 2006 \n",
    "    - 2.5% of borrowers failed to make initial payments \n",
    "    - did not have cash to cover buy-backs \n",
    "    - **filed for bankruptcy in April 2007**\n",
    "\n",
    "## Markets Rally Through April and May\n",
    "#### Hitting New Records \n",
    "\n"
   ]
  },
  {
   "cell_type": "code",
   "execution_count": null,
   "metadata": {},
   "outputs": [],
   "source": []
  }
 ],
 "metadata": {
  "kernelspec": {
   "display_name": "Python 3.8.8 ('base')",
   "language": "python",
   "name": "python3"
  },
  "language_info": {
   "name": "python",
   "version": "3.8.8"
  },
  "orig_nbformat": 4,
  "vscode": {
   "interpreter": {
    "hash": "08a0dfaf3fa74e1b9a1bb705dbe1b2708914f992320bdd77350db063c3b717dd"
   }
  }
 },
 "nbformat": 4,
 "nbformat_minor": 2
}
