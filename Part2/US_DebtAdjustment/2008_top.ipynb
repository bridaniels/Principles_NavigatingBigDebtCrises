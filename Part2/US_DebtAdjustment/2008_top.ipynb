{
 "cells": [
  {
   "cell_type": "markdown",
   "metadata": {},
   "source": [
    "# **The Top: 2007**\n",
    "---\n",
    "- MARCH\n",
    "    - DJIA best three days since '04\n",
    "    - Chinese Market Rally \n",
    "    - Home Sales Most in 3yr\n",
    "    - Summer `07 FLAT YIELD CURVE  "
   ]
  },
  {
   "cell_type": "code",
   "execution_count": null,
   "metadata": {},
   "outputs": [],
   "source": []
  },
  {
   "cell_type": "markdown",
   "metadata": {},
   "source": [
    "# Overall Market and Economy Doing Well\n",
    "---\n",
    "- Markets flat in February + March with low volatility and priced to maintain it\n",
    "- Volatility + Market\n"
   ]
  },
  {
   "cell_type": "code",
   "execution_count": null,
   "metadata": {},
   "outputs": [],
   "source": []
  },
  {
   "cell_type": "markdown",
   "metadata": {},
   "source": [
    "# Problems with Subprime Mortgages\n",
    "---\n",
    "- CDOs, sythetic CDOs, CMOs + Ratings \n",
    "- Lowered Lending Standards \n",
    "- Uptick in Delinquencies \n",
    "- Banks Stopped Buying Loans (Originators Stuck with Losses)\n",
    "> #### \"Early Payment Defaults\"\n",
    "> - Provision within agreement with investment bank buying subprime loan\n",
    "> - If borrower misses one of the first few payments -> lender must buy back the loan \n",
    ">   - Typically very rare for the borrower to miss a payment \n"
   ]
  },
  {
   "cell_type": "code",
   "execution_count": null,
   "metadata": {},
   "outputs": [],
   "source": []
  },
  {
   "cell_type": "markdown",
   "metadata": {},
   "source": [
    "# Markets Rally Through April and May\n",
    "---\n",
    "- Hitting New Records "
   ]
  },
  {
   "cell_type": "code",
   "execution_count": null,
   "metadata": {},
   "outputs": [],
   "source": []
  },
  {
   "cell_type": "markdown",
   "metadata": {},
   "source": [
    "# Yield Curve Flattens June/July \n",
    "---\n",
    "> \n",
    "> - Interest Rates **Rise** \n",
    ">   - Debt Service Payments **Rise**\n",
    ">       - Additional Borrowing **Falls**\n",
    ">           - Disposable Income **Falls**\n",
    ">               - Spending **Falls**\n",
    ">                   - Income **Falls**\n",
    ">                       - Economic Activity **Falls**\n",
    ">\n",
    ">\n",
    "> - Short-Term Interest Rates **Rise**\n",
    ">   - Yield Curve **Flattens/Inverts**\n",
    ">       - Liquidity **Falls**\n",
    ">           - ST Asset Returns **Increase** (Cash)\n",
    ">               - *more attractive to hold VS. long-term financial assets and lower credit rating assets*\n",
    ">               - ***Money Moves Out of Financial Assets***\n",
    ">                   - Financial Asset Prices **Fall**\n",
    ">                       - **Negative Wealth Effect**\n",
    ">                           - Spending + Income **Fall**\n"
   ]
  },
  {
   "cell_type": "code",
   "execution_count": null,
   "metadata": {},
   "outputs": [],
   "source": []
  },
  {
   "cell_type": "markdown",
   "metadata": {},
   "source": [
    "# Tightening Popped the Bubble \n",
    "---\n",
    "- IR rise \n",
    "- ARM payments increase \n",
    "- Increasing foreclosures + delinquencies "
   ]
  },
  {
   "cell_type": "code",
   "execution_count": null,
   "metadata": {},
   "outputs": [],
   "source": []
  },
  {
   "cell_type": "markdown",
   "metadata": {},
   "source": [
    "# Bear Stearns: Trouble Begins Mid-June 2007 \n",
    "--- \n",
    "- Selling of MBS "
   ]
  },
  {
   "cell_type": "code",
   "execution_count": null,
   "metadata": {},
   "outputs": [],
   "source": []
  },
  {
   "cell_type": "markdown",
   "metadata": {},
   "source": [
    "# The Top: Summer 2007 \n",
    "---"
   ]
  },
  {
   "cell_type": "code",
   "execution_count": null,
   "metadata": {},
   "outputs": [],
   "source": []
  },
  {
   "cell_type": "markdown",
   "metadata": {},
   "source": [
    "## New Home Sales\n",
    "---"
   ]
  },
  {
   "cell_type": "code",
   "execution_count": null,
   "metadata": {},
   "outputs": [],
   "source": []
  },
  {
   "cell_type": "markdown",
   "metadata": {},
   "source": [
    "## Financial Equity Index\n",
    "---"
   ]
  },
  {
   "cell_type": "code",
   "execution_count": null,
   "metadata": {},
   "outputs": [],
   "source": []
  },
  {
   "cell_type": "markdown",
   "metadata": {},
   "source": []
  },
  {
   "cell_type": "code",
   "execution_count": null,
   "metadata": {},
   "outputs": [],
   "source": []
  },
  {
   "cell_type": "code",
   "execution_count": null,
   "metadata": {},
   "outputs": [],
   "source": []
  }
 ],
 "metadata": {
  "kernelspec": {
   "display_name": "Python 3.8.8 ('base')",
   "language": "python",
   "name": "python3"
  },
  "language_info": {
   "name": "python",
   "version": "3.8.8"
  },
  "orig_nbformat": 4,
  "vscode": {
   "interpreter": {
    "hash": "08a0dfaf3fa74e1b9a1bb705dbe1b2708914f992320bdd77350db063c3b717dd"
   }
  }
 },
 "nbformat": 4,
 "nbformat_minor": 2
}
