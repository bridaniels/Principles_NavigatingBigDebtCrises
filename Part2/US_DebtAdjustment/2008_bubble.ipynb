{
 "cells": [
  {
   "cell_type": "markdown",
   "metadata": {},
   "source": [
    "# Emerging Bubble: 2004-2006\n",
    "---"
   ]
  },
  {
   "cell_type": "code",
   "execution_count": 1,
   "metadata": {},
   "outputs": [],
   "source": [
    "import pandas as pd \n",
    "\n",
    "import timeline2008 as tline "
   ]
  },
  {
   "cell_type": "code",
   "execution_count": 4,
   "metadata": {},
   "outputs": [
    {
     "name": "stdout",
     "output_type": "stream",
     "text": [
      "      date                                    event\n",
      "0  01-2004  Increased Home Building Driving Economy\n",
      "1  09-2004          Flipping Houses Hits Reality TV\n",
      "      date                                              event\n",
      "0  04-2004  Alan Greenspan claims deflation threat is gone...\n"
     ]
    }
   ],
   "source": [
    "print(tline.housing_crisis_timeline)\n",
    "print(tline.federal_reserve_timeline)"
   ]
  },
  {
   "cell_type": "code",
   "execution_count": null,
   "metadata": {},
   "outputs": [],
   "source": []
  },
  {
   "cell_type": "markdown",
   "metadata": {},
   "source": [
    "# Leading Up to The Bubble: \n",
    "---\n",
    "## Debt-to-GDP Ratio: Is Debt Growth Equally Financing Income Growth? \n",
    "- 1990s: Debt-to-GDP Ratio increased slightly \n",
    "- 2001 Recession\n",
    "    - Fed Funds Rate (6.5-1%)\n",
    "        - Simulated Borrowing and Spending (esp. by households)\n",
    "        - short-lived and shallow recession \n",
    "    - Dot Com Bubble\n",
    "    - Tight Monetary Policy Previously\n",
    "    - 9/11 Shock \n",
    "\n",
    "## US Economic Conditions: \n",
    "- Growth Steady at 3-4%\n",
    "- Unemployment Below LT Average between 4-5%\n",
    "- Inflation 2-3.5%\n",
    "\n",
    "## Late Cycle Phase: \n",
    "- Capacity Constraints Appearing\n",
    "- GDP gap was 2% and demand growth was above capacity \n",
    "- FINANCIAL AND HOUSING MARKETS STRONG -> FINANCED BY DEBT \n",
    "\n",
    "### PLOTS\n",
    "- 1990s Debt2GDP Ratio Increasing \n",
    "- Fed Funds Rate Dropping (previously tight) -> then back up in 2004-2006\n",
    "- Dot Com Bubble -> stocks crashing \n",
    "- Household Spending + Borrowing Increasing "
   ]
  },
  {
   "cell_type": "code",
   "execution_count": null,
   "metadata": {},
   "outputs": [],
   "source": []
  }
 ],
 "metadata": {
  "kernelspec": {
   "display_name": "Python 3.8.8 ('base')",
   "language": "python",
   "name": "python3"
  },
  "language_info": {
   "codemirror_mode": {
    "name": "ipython",
    "version": 3
   },
   "file_extension": ".py",
   "mimetype": "text/x-python",
   "name": "python",
   "nbconvert_exporter": "python",
   "pygments_lexer": "ipython3",
   "version": "3.8.8"
  },
  "orig_nbformat": 4,
  "vscode": {
   "interpreter": {
    "hash": "08a0dfaf3fa74e1b9a1bb705dbe1b2708914f992320bdd77350db063c3b717dd"
   }
  }
 },
 "nbformat": 4,
 "nbformat_minor": 2
}
